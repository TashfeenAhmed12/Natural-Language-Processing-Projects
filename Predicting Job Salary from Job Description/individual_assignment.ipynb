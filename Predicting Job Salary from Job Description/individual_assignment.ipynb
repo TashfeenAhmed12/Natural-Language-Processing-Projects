{
 "cells": [
  {
   "cell_type": "markdown",
   "metadata": {},
   "source": [
    "# The notebook contains answers to all questions and requirements in project guideline (python scripts, outputs (including plots & tables))"
   ]
  },
  {
   "cell_type": "markdown",
   "metadata": {},
   "source": [
    "# Import Libraries"
   ]
  },
  {
   "cell_type": "code",
   "execution_count": 1,
   "metadata": {},
   "outputs": [
    {
     "name": "stderr",
     "output_type": "stream",
     "text": [
      "[nltk_data] Downloading package punkt to\n",
      "[nltk_data]     C:\\Users\\tashf\\AppData\\Roaming\\nltk_data...\n",
      "[nltk_data]   Package punkt is already up-to-date!\n",
      "[nltk_data] Downloading package stopwords to\n",
      "[nltk_data]     C:\\Users\\tashf\\AppData\\Roaming\\nltk_data...\n",
      "[nltk_data]   Package stopwords is already up-to-date!\n"
     ]
    },
    {
     "data": {
      "text/plain": [
       "True"
      ]
     },
     "execution_count": 1,
     "metadata": {},
     "output_type": "execute_result"
    }
   ],
   "source": [
    "import pandas as pd\n",
    "import numpy as np\n",
    "from sklearn.model_selection import train_test_split\n",
    "from sklearn.feature_extraction.text import TfidfVectorizer\n",
    "from sklearn.naive_bayes import MultinomialNB\n",
    "from sklearn.metrics import accuracy_score, confusion_matrix\n",
    "import re\n",
    "from nltk.corpus import stopwords\n",
    "from nltk.stem import PorterStemmer\n",
    "from nltk.tokenize import word_tokenize\n",
    "import nltk\n",
    "from nltk import pos_tag\n",
    "from nltk.corpus import wordnet\n",
    "from nltk.stem import WordNetLemmatizer\n",
    "from sklearn.model_selection import GridSearchCV\n",
    "from sklearn.pipeline import Pipeline\n",
    "from sklearn.naive_bayes import MultinomialNB\n",
    "from sklearn.metrics import classification_report\n",
    "import matplotlib.pyplot as plt\n",
    "import plotly\n",
    "# Download necessary NLTK data\n",
    "nltk.download('punkt')\n",
    "nltk.download('stopwords')"
   ]
  },
  {
   "cell_type": "code",
   "execution_count": 2,
   "metadata": {},
   "outputs": [],
   "source": [
    "pd.set_option('display.max_columns', None)\n",
    "pd.set_option('display.max_rows', None)\n",
    "pd.set_option('display.max_colwidth', 300)\n"
   ]
  },
  {
   "cell_type": "code",
   "execution_count": 3,
   "metadata": {},
   "outputs": [],
   "source": [
    "df=pd.read_csv('Train_rev1.csv')"
   ]
  },
  {
   "cell_type": "code",
   "execution_count": 4,
   "metadata": {},
   "outputs": [],
   "source": [
    "#drop rows with missing values (assuming missing information in other columns could mean job description is not complete as well) \n",
    "df.dropna(inplace=True)"
   ]
  },
  {
   "cell_type": "code",
   "execution_count": 5,
   "metadata": {},
   "outputs": [
    {
     "data": {
      "text/html": [
       "<div>\n",
       "<style scoped>\n",
       "    .dataframe tbody tr th:only-of-type {\n",
       "        vertical-align: middle;\n",
       "    }\n",
       "\n",
       "    .dataframe tbody tr th {\n",
       "        vertical-align: top;\n",
       "    }\n",
       "\n",
       "    .dataframe thead th {\n",
       "        text-align: right;\n",
       "    }\n",
       "</style>\n",
       "<table border=\"1\" class=\"dataframe\">\n",
       "  <thead>\n",
       "    <tr style=\"text-align: right;\">\n",
       "      <th></th>\n",
       "      <th>Id</th>\n",
       "      <th>Title</th>\n",
       "      <th>FullDescription</th>\n",
       "      <th>LocationRaw</th>\n",
       "      <th>LocationNormalized</th>\n",
       "      <th>ContractType</th>\n",
       "      <th>ContractTime</th>\n",
       "      <th>Company</th>\n",
       "      <th>Category</th>\n",
       "      <th>SalaryRaw</th>\n",
       "      <th>SalaryNormalized</th>\n",
       "      <th>SourceName</th>\n",
       "      <th>Percentile</th>\n",
       "      <th>Target</th>\n",
       "    </tr>\n",
       "  </thead>\n",
       "  <tbody>\n",
       "    <tr>\n",
       "      <th>2020</th>\n",
       "      <td>51860115</td>\n",
       "      <td>Financial Accountant</td>\n",
       "      <td>A leading Insurance/Reinsurance Business is currently seeking a high calibre Financial Accountant to take financial and management responsibility for a number of business critical areas. This role will enable the candidate to work within a close team whilst benefiting from the opportunities asso...</td>\n",
       "      <td>London</td>\n",
       "      <td>London</td>\n",
       "      <td>full_time</td>\n",
       "      <td>permanent</td>\n",
       "      <td>CMC Consulting Limited</td>\n",
       "      <td>Accounting &amp; Finance Jobs</td>\n",
       "      <td>40,000 - 50,000 + Bonus + B</td>\n",
       "      <td>45000.0</td>\n",
       "      <td>myjobs.cimaglobal.com</td>\n",
       "      <td>0.77746</td>\n",
       "      <td>high</td>\n",
       "    </tr>\n",
       "  </tbody>\n",
       "</table>\n",
       "</div>"
      ],
      "text/plain": [
       "            Id                 Title  \\\n",
       "2020  51860115  Financial Accountant   \n",
       "\n",
       "                                                                                                                                                                                                                                                                                                  FullDescription  \\\n",
       "2020  A leading Insurance/Reinsurance Business is currently seeking a high calibre Financial Accountant to take financial and management responsibility for a number of business critical areas. This role will enable the candidate to work within a close team whilst benefiting from the opportunities asso...   \n",
       "\n",
       "     LocationRaw LocationNormalized ContractType ContractTime  \\\n",
       "2020      London             London    full_time    permanent   \n",
       "\n",
       "                     Company                   Category  \\\n",
       "2020  CMC Consulting Limited  Accounting & Finance Jobs   \n",
       "\n",
       "                        SalaryRaw  SalaryNormalized             SourceName  \\\n",
       "2020  40,000 - 50,000 + Bonus + B           45000.0  myjobs.cimaglobal.com   \n",
       "\n",
       "      Percentile Target  \n",
       "2020     0.77746   high  "
      ]
     },
     "execution_count": 5,
     "metadata": {},
     "output_type": "execute_result"
    }
   ],
   "source": [
    "#Assign percentile ranks using SalaryNormalized\n",
    "df['SalaryNormalized'] = df['SalaryNormalized'].astype(float)\n",
    "df['Percentile'] =df['SalaryNormalized'].rank(pct=True)\n",
    "#above 75% is high, below 75% is low\n",
    "df.loc[df['Percentile'] >= 0.75, 'Target'] = 'high'\n",
    "df.loc[df['Percentile'] < 0.75, 'Target'] = 'low'\n",
    "df.head(1)"
   ]
  },
  {
   "cell_type": "code",
   "execution_count": 6,
   "metadata": {},
   "outputs": [
    {
     "data": {
      "text/html": [
       "<div>\n",
       "<style scoped>\n",
       "    .dataframe tbody tr th:only-of-type {\n",
       "        vertical-align: middle;\n",
       "    }\n",
       "\n",
       "    .dataframe tbody tr th {\n",
       "        vertical-align: top;\n",
       "    }\n",
       "\n",
       "    .dataframe thead th {\n",
       "        text-align: right;\n",
       "    }\n",
       "</style>\n",
       "<table border=\"1\" class=\"dataframe\">\n",
       "  <thead>\n",
       "    <tr style=\"text-align: right;\">\n",
       "      <th></th>\n",
       "      <th>Id</th>\n",
       "      <th>Title</th>\n",
       "      <th>FullDescription</th>\n",
       "      <th>LocationRaw</th>\n",
       "      <th>LocationNormalized</th>\n",
       "      <th>ContractType</th>\n",
       "      <th>ContractTime</th>\n",
       "      <th>Company</th>\n",
       "      <th>Category</th>\n",
       "      <th>SalaryRaw</th>\n",
       "      <th>SalaryNormalized</th>\n",
       "      <th>SourceName</th>\n",
       "      <th>Percentile</th>\n",
       "      <th>Target</th>\n",
       "    </tr>\n",
       "  </thead>\n",
       "  <tbody>\n",
       "    <tr>\n",
       "      <th>0</th>\n",
       "      <td>70472014</td>\n",
       "      <td>Digital Sales Manager</td>\n",
       "      <td>An award winning advertising technology business specialising in Video and Mobile with an amazing and fun environment is looking for a Digital Sales Manager to join its sales team and continue its impressive expansion. You will need to have impressive online media sales experience and a strong c...</td>\n",
       "      <td>Central London</td>\n",
       "      <td>Central London</td>\n",
       "      <td>full_time</td>\n",
       "      <td>permanent</td>\n",
       "      <td>DIGITAL GURUS</td>\n",
       "      <td>Sales Jobs</td>\n",
       "      <td>35000 - 40000 per annum + 20k uncapped ote</td>\n",
       "      <td>37500.0</td>\n",
       "      <td>jobs.guardian.co.uk</td>\n",
       "      <td>0.65019</td>\n",
       "      <td>low</td>\n",
       "    </tr>\n",
       "  </tbody>\n",
       "</table>\n",
       "</div>"
      ],
      "text/plain": [
       "         Id                  Title  \\\n",
       "0  70472014  Digital Sales Manager   \n",
       "\n",
       "                                                                                                                                                                                                                                                                                               FullDescription  \\\n",
       "0  An award winning advertising technology business specialising in Video and Mobile with an amazing and fun environment is looking for a Digital Sales Manager to join its sales team and continue its impressive expansion. You will need to have impressive online media sales experience and a strong c...   \n",
       "\n",
       "      LocationRaw LocationNormalized ContractType ContractTime        Company  \\\n",
       "0  Central London     Central London    full_time    permanent  DIGITAL GURUS   \n",
       "\n",
       "     Category                                   SalaryRaw  SalaryNormalized  \\\n",
       "0  Sales Jobs  35000 - 40000 per annum + 20k uncapped ote           37500.0   \n",
       "\n",
       "            SourceName  Percentile Target  \n",
       "0  jobs.guardian.co.uk     0.65019    low  "
      ]
     },
     "execution_count": 6,
     "metadata": {},
     "output_type": "execute_result"
    }
   ],
   "source": [
    "#randomly select 2500 rows with  equal number of high and low salary\n",
    "df_high = df[df['Target'] == 'high'].sample(n=1250, random_state=1)\n",
    "df_low = df[df['Target'] == 'low'].sample(n=1250, random_state=1)\n",
    "df = pd.concat([df_high, df_low])\n",
    "df = df.sample(frac=1, random_state=1).reset_index(drop=True)\n",
    "df.head(1)"
   ]
  },
  {
   "cell_type": "code",
   "execution_count": 7,
   "metadata": {},
   "outputs": [
    {
     "data": {
      "text/plain": [
       "(2500, 14)"
      ]
     },
     "execution_count": 7,
     "metadata": {},
     "output_type": "execute_result"
    }
   ],
   "source": [
    "df.shape"
   ]
  },
  {
   "cell_type": "code",
   "execution_count": 8,
   "metadata": {},
   "outputs": [
    {
     "data": {
      "text/plain": [
       "low     1250\n",
       "high    1250\n",
       "Name: Target, dtype: int64"
      ]
     },
     "execution_count": 8,
     "metadata": {},
     "output_type": "execute_result"
    }
   ],
   "source": [
    "df['Target'].value_counts()"
   ]
  },
  {
   "cell_type": "markdown",
   "metadata": {},
   "source": [
    "## 1.Build a classification model with text (full job description) as the predictor. What is the accuracy ofyour model? Show the confusion matrix. Also show the top 10 words (excluding stopwords) that aremost indicative of (i) high salary, and (ii) low salary."
   ]
  },
  {
   "cell_type": "markdown",
   "metadata": {},
   "source": [
    "**Note:** To show top words 2 appraoches are used - i recommend approach 2 results as: Approach 2 is better as it specifically identifies unique words associated with high and low salary jobs, offering clearer insights into what differentiates these roles\n"
   ]
  },
  {
   "cell_type": "code",
   "execution_count": 9,
   "metadata": {},
   "outputs": [],
   "source": [
    "# Function to convert nltk tag to wordnet tag\n",
    "def nltk_tag_to_wordnet_tag(nltk_tag):\n",
    "    if nltk_tag.startswith('J'):\n",
    "        return wordnet.ADJ\n",
    "    elif nltk_tag.startswith('V'):\n",
    "        return wordnet.VERB\n",
    "    elif nltk_tag.startswith('N'):\n",
    "        return wordnet.NOUN\n",
    "    elif nltk_tag.startswith('R'):\n",
    "        return wordnet.ADV\n",
    "    else:          \n",
    "        return None\n",
    "\n",
    "def preprocess_text(text):\n",
    "    # Convert to string\n",
    "    text = str(text)\n",
    "    # Lowercase\n",
    "    text = text.lower()\n",
    "    # Remove punctuation\n",
    "    text = re.sub(r'[^\\w\\s]', '', text)\n",
    "    # Remove numbers\n",
    "    text = re.sub(r'\\d+', '', text)\n",
    "    # Remove html tags\n",
    "    text = re.sub(r'<.*?>', '', text)\n",
    "    # Remove non-ascii and words containing numbers\n",
    "    text = re.sub(r'[^\\x00-\\x7F]+', ' ', text)\n",
    "    # Remove whitespace\n",
    "    text = text.strip()\n",
    "    # Remove urls\n",
    "    text = re.sub(r'http\\S+', '', text)\n",
    "    # Remove email addresses\n",
    "    text = re.sub('\\S+@\\S+', '', text)\n",
    "    #remove web address\n",
    "    text = re.sub(r'www\\S+', '', text)\n",
    "    # Tokenize\n",
    "    tokens = word_tokenize(text)\n",
    "    # Remove stop words\n",
    "    stop_words = set(stopwords.words('english'))\n",
    "    tokens = [i for i in tokens if not i in stop_words]\n",
    "    # Part of Speech Tagging\n",
    "    nltk_tagged = pos_tag(tokens)\n",
    "    wordnet_tagged = map(lambda x: (x[0], nltk_tag_to_wordnet_tag(x[1])), nltk_tagged)\n",
    "    # Lemmatization\n",
    "    lemmatizer = WordNetLemmatizer()\n",
    "    lemmatized_sentence = []\n",
    "    for word, tag in wordnet_tagged:\n",
    "        if tag is None:\n",
    "            # if there is no available tag, append the token as is\n",
    "            lemmatized_sentence.append(word)\n",
    "        else:        \n",
    "            # else use the tag to lemmatize the token\n",
    "            lemmatized_sentence.append(lemmatizer.lemmatize(word, tag))\n",
    "    # Rejoin words\n",
    "    text = ' '.join(lemmatized_sentence)\n",
    "    return text\n",
    "\n",
    "# Applying the preprocessing function to the FullDescription column\n",
    "df['cleaned_text'] = df['FullDescription'].apply(preprocess_text)"
   ]
  },
  {
   "cell_type": "code",
   "execution_count": 10,
   "metadata": {},
   "outputs": [],
   "source": [
    "# Apply preprocessing function to the full description\n",
    "df['cleaned_text'] = df['FullDescription'].apply(preprocess_text)"
   ]
  },
  {
   "cell_type": "code",
   "execution_count": 11,
   "metadata": {},
   "outputs": [
    {
     "data": {
      "text/html": [
       "<div>\n",
       "<style scoped>\n",
       "    .dataframe tbody tr th:only-of-type {\n",
       "        vertical-align: middle;\n",
       "    }\n",
       "\n",
       "    .dataframe tbody tr th {\n",
       "        vertical-align: top;\n",
       "    }\n",
       "\n",
       "    .dataframe thead th {\n",
       "        text-align: right;\n",
       "    }\n",
       "</style>\n",
       "<table border=\"1\" class=\"dataframe\">\n",
       "  <thead>\n",
       "    <tr style=\"text-align: right;\">\n",
       "      <th></th>\n",
       "      <th>Id</th>\n",
       "      <th>Title</th>\n",
       "      <th>FullDescription</th>\n",
       "      <th>LocationRaw</th>\n",
       "      <th>LocationNormalized</th>\n",
       "      <th>ContractType</th>\n",
       "      <th>ContractTime</th>\n",
       "      <th>Company</th>\n",
       "      <th>Category</th>\n",
       "      <th>SalaryRaw</th>\n",
       "      <th>SalaryNormalized</th>\n",
       "      <th>SourceName</th>\n",
       "      <th>Percentile</th>\n",
       "      <th>Target</th>\n",
       "      <th>cleaned_text</th>\n",
       "    </tr>\n",
       "  </thead>\n",
       "  <tbody>\n",
       "    <tr>\n",
       "      <th>0</th>\n",
       "      <td>70472014</td>\n",
       "      <td>Digital Sales Manager</td>\n",
       "      <td>An award winning advertising technology business specialising in Video and Mobile with an amazing and fun environment is looking for a Digital Sales Manager to join its sales team and continue its impressive expansion. You will need to have impressive online media sales experience and a strong c...</td>\n",
       "      <td>Central London</td>\n",
       "      <td>Central London</td>\n",
       "      <td>full_time</td>\n",
       "      <td>permanent</td>\n",
       "      <td>DIGITAL GURUS</td>\n",
       "      <td>Sales Jobs</td>\n",
       "      <td>35000 - 40000 per annum + 20k uncapped ote</td>\n",
       "      <td>37500.0</td>\n",
       "      <td>jobs.guardian.co.uk</td>\n",
       "      <td>0.65019</td>\n",
       "      <td>low</td>\n",
       "      <td>award win advertise technology business specialise video mobile amaze fun environment look digital sale manager join sale team continue impressive expansion need impressive online medium sale experience strong contact book across uk market company deal premium uk publisher well serve bluechip br...</td>\n",
       "    </tr>\n",
       "  </tbody>\n",
       "</table>\n",
       "</div>"
      ],
      "text/plain": [
       "         Id                  Title  \\\n",
       "0  70472014  Digital Sales Manager   \n",
       "\n",
       "                                                                                                                                                                                                                                                                                               FullDescription  \\\n",
       "0  An award winning advertising technology business specialising in Video and Mobile with an amazing and fun environment is looking for a Digital Sales Manager to join its sales team and continue its impressive expansion. You will need to have impressive online media sales experience and a strong c...   \n",
       "\n",
       "      LocationRaw LocationNormalized ContractType ContractTime        Company  \\\n",
       "0  Central London     Central London    full_time    permanent  DIGITAL GURUS   \n",
       "\n",
       "     Category                                   SalaryRaw  SalaryNormalized  \\\n",
       "0  Sales Jobs  35000 - 40000 per annum + 20k uncapped ote           37500.0   \n",
       "\n",
       "            SourceName  Percentile Target  \\\n",
       "0  jobs.guardian.co.uk     0.65019    low   \n",
       "\n",
       "                                                                                                                                                                                                                                                                                                  cleaned_text  \n",
       "0  award win advertise technology business specialise video mobile amaze fun environment look digital sale manager join sale team continue impressive expansion need impressive online medium sale experience strong contact book across uk market company deal premium uk publisher well serve bluechip br...  "
      ]
     },
     "execution_count": 11,
     "metadata": {},
     "output_type": "execute_result"
    }
   ],
   "source": [
    "df.head(1)"
   ]
  },
  {
   "cell_type": "code",
   "execution_count": 12,
   "metadata": {},
   "outputs": [],
   "source": [
    "#keep only the cleaned_text and Target columns\n",
    "df = df[['cleaned_text', 'Target']].copy()"
   ]
  },
  {
   "cell_type": "markdown",
   "metadata": {},
   "source": [
    "#mapping target variable High to 1 and Low to 0\n",
    "df['Target'] = df['Target'].map({'high': 1, 'low': 0})"
   ]
  },
  {
   "cell_type": "code",
   "execution_count": 13,
   "metadata": {},
   "outputs": [],
   "source": [
    "#use TfidfVectorizer to convert the text into a matrix of TF-IDF features\n",
    "vectorizer = TfidfVectorizer() #sublinear_tf=True\n",
    "#This addresses the issue that “twenty occurrences of a term in a document” does not represent “twenty times the significance of a single occurrence\n",
    "#for simplicity, I will not use sublinear_tf=True\n",
    "X = vectorizer.fit_transform(df['cleaned_text'])\n",
    "y = df['Target']\n",
    "#split the data into training and testing sets\n",
    "X_train, X_test, y_train, y_test = train_test_split(X, y, test_size=0.2, random_state=42)\n"
   ]
  },
  {
   "cell_type": "code",
   "execution_count": 14,
   "metadata": {},
   "outputs": [
    {
     "name": "stdout",
     "output_type": "stream",
     "text": [
      "Fitting 5 folds for each of 3 candidates, totalling 15 fits\n"
     ]
    },
    {
     "data": {
      "text/plain": [
       "GridSearchCV(cv=5, estimator=MultinomialNB(), n_jobs=-1,\n",
       "             param_grid={'alpha': (1, 0.01, 0.001)}, scoring='accuracy',\n",
       "             verbose=1)"
      ]
     },
     "execution_count": 14,
     "metadata": {},
     "output_type": "execute_result"
    }
   ],
   "source": [
    "#parameter grid\n",
    "param_grid = {\n",
    "    'alpha': (1,1e-2, 1e-3)\n",
    "}\n",
    "\n",
    "#naive bayes classifier\n",
    "nb = MultinomialNB()\n",
    "#grid search\n",
    "gs = GridSearchCV(nb, param_grid, cv=5, n_jobs=-1, verbose=1, scoring='accuracy')\n",
    "gs.fit(X_train, y_train)"
   ]
  },
  {
   "cell_type": "code",
   "execution_count": 15,
   "metadata": {},
   "outputs": [
    {
     "name": "stdout",
     "output_type": "stream",
     "text": [
      "Best parameters: {'alpha': 0.01}\n"
     ]
    }
   ],
   "source": [
    "#best parameters\n",
    "print('Best parameters:', gs.best_params_)"
   ]
  },
  {
   "cell_type": "code",
   "execution_count": 16,
   "metadata": {},
   "outputs": [
    {
     "name": "stdout",
     "output_type": "stream",
     "text": [
      "Best score: 0.7605000000000001\n"
     ]
    }
   ],
   "source": [
    "#best score\n",
    "print('Best score:', gs.best_score_)"
   ]
  },
  {
   "cell_type": "code",
   "execution_count": 17,
   "metadata": {},
   "outputs": [
    {
     "name": "stdout",
     "output_type": "stream",
     "text": [
      "              precision    recall  f1-score   support\n",
      "\n",
      "        high       0.71      0.80      0.75       238\n",
      "         low       0.79      0.71      0.75       262\n",
      "\n",
      "    accuracy                           0.75       500\n",
      "   macro avg       0.75      0.75      0.75       500\n",
      "weighted avg       0.75      0.75      0.75       500\n",
      "\n",
      "[[190  48]\n",
      " [ 77 185]]\n"
     ]
    }
   ],
   "source": [
    "#train the model with the best parameters\n",
    "nb = MultinomialNB(alpha=gs.best_params_['alpha'])\n",
    "nb.fit(X_train, y_train)\n",
    "#predict the target\n",
    "y_pred = nb.predict(X_test)\n",
    "#classification report\n",
    "print(classification_report(y_test, y_pred))\n",
    "#confusion matrix\n",
    "print(confusion_matrix(y_test, y_pred))\n"
   ]
  },
  {
   "cell_type": "code",
   "execution_count": 25,
   "metadata": {},
   "outputs": [
    {
     "data": {
      "text/plain": [
       "['vectorizer.pkl']"
      ]
     },
     "execution_count": 25,
     "metadata": {},
     "output_type": "execute_result"
    }
   ],
   "source": [
    "#save the model\n",
    "import joblib\n",
    "joblib.dump(nb, 'model.pkl')   \n",
    "#save the vectorizer\n",
    "joblib.dump(vectorizer, 'vectorizer.pkl')\n"
   ]
  },
  {
   "cell_type": "code",
   "execution_count": 18,
   "metadata": {},
   "outputs": [
    {
     "name": "stdout",
     "output_type": "stream",
     "text": [
      "Accuracy: 0.75\n"
     ]
    }
   ],
   "source": [
    "#Accuracy\n",
    "print('Accuracy:', accuracy_score(y_test, y_pred))"
   ]
  },
  {
   "cell_type": "code",
   "execution_count": 19,
   "metadata": {},
   "outputs": [
    {
     "name": "stderr",
     "output_type": "stream",
     "text": [
      "C:\\Users\\tashf\\AppData\\Local\\Temp\\ipykernel_24904\\457886792.py:15: UserWarning: set_ticklabels() should only be used with a fixed number of ticks, i.e. after set_ticks() or using a FixedLocator.\n",
      "  ax.set_xticklabels([''] + ['Low', 'High'])\n",
      "C:\\Users\\tashf\\AppData\\Local\\Temp\\ipykernel_24904\\457886792.py:16: UserWarning: set_ticklabels() should only be used with a fixed number of ticks, i.e. after set_ticks() or using a FixedLocator.\n",
      "  ax.set_yticklabels([''] + ['Low', 'High'])\n"
     ]
    },
    {
     "data": {
      "image/png": "[encoded data removed]",
      "text/plain": [
       "<Figure size 1000x800 with 2 Axes>"
      ]
     },
     "metadata": {},
     "output_type": "display_data"
    }
   ],
   "source": [
    "# Confusion matrix\n",
    "conf_matrix = confusion_matrix(y_test, y_pred)\n",
    "\n",
    "fig, ax = plt.subplots(figsize=(10, 8))  \n",
    "cax = ax.matshow(conf_matrix, cmap='coolwarm')  \n",
    "\n",
    "plt.colorbar(cax)\n",
    "\n",
    "for (i, j), value in np.ndenumerate(conf_matrix):\n",
    "    ax.text(j, i, f'{value}', ha='center', va='center', color='black' if conf_matrix.min() > 50 else \"white\")\n",
    "\n",
    "plt.ylabel('Actual', fontsize=12)\n",
    "plt.xlabel('Predicted', fontsize=12)\n",
    "\n",
    "ax.set_xticklabels([''] + ['Low', 'High'])\n",
    "ax.set_yticklabels([''] + ['Low', 'High'])\n",
    "\n",
    "plt.title('Confusion Matrix', fontsize=15)\n",
    "\n",
    "plt.show()"
   ]
  },
  {
   "cell_type": "markdown",
   "metadata": {},
   "source": [
    "### Approach 1: Direct Probability Comparison - to show top words in high and low salary"
   ]
  },
  {
   "cell_type": "code",
   "execution_count": 20,
   "metadata": {},
   "outputs": [
    {
     "name": "stdout",
     "output_type": "stream",
     "text": [
      "Prior Class probabilities:\n",
      "high: 0.5060000000000002\n",
      "low: 0.49400000000000027\n"
     ]
    }
   ],
   "source": [
    "class_prob = nb.class_log_prior_\n",
    "class_labels = nb.classes_\n",
    "\n",
    "print('Prior Class probabilities:')\n",
    "for label, prob in zip(class_labels, np.exp(class_prob)):\n",
    "    print(f\"{label}: {prob}\")\n",
    "\n",
    "# Considering target class had equal distribution, prior class probabilities should be 0.5 for each class"
   ]
  },
  {
   "cell_type": "code",
   "execution_count": 21,
   "metadata": {},
   "outputs": [
    {
     "name": "stdout",
     "output_type": "stream",
     "text": [
      "Top High Salary words:\n"
     ]
    },
    {
     "data": {
      "text/html": [
       "<div>\n",
       "<style scoped>\n",
       "    .dataframe tbody tr th:only-of-type {\n",
       "        vertical-align: middle;\n",
       "    }\n",
       "\n",
       "    .dataframe tbody tr th {\n",
       "        vertical-align: top;\n",
       "    }\n",
       "\n",
       "    .dataframe thead th {\n",
       "        text-align: right;\n",
       "    }\n",
       "</style>\n",
       "<table border=\"1\" class=\"dataframe\">\n",
       "  <thead>\n",
       "    <tr style=\"text-align: right;\">\n",
       "      <th></th>\n",
       "      <th>Feature</th>\n",
       "      <th>Probability</th>\n",
       "    </tr>\n",
       "  </thead>\n",
       "  <tbody>\n",
       "    <tr>\n",
       "      <th>0</th>\n",
       "      <td>business</td>\n",
       "      <td>0.005448</td>\n",
       "    </tr>\n",
       "    <tr>\n",
       "      <th>1</th>\n",
       "      <td>experience</td>\n",
       "      <td>0.005003</td>\n",
       "    </tr>\n",
       "    <tr>\n",
       "      <th>2</th>\n",
       "      <td>work</td>\n",
       "      <td>0.004550</td>\n",
       "    </tr>\n",
       "    <tr>\n",
       "      <th>3</th>\n",
       "      <td>project</td>\n",
       "      <td>0.003948</td>\n",
       "    </tr>\n",
       "    <tr>\n",
       "      <th>4</th>\n",
       "      <td>client</td>\n",
       "      <td>0.003892</td>\n",
       "    </tr>\n",
       "    <tr>\n",
       "      <th>5</th>\n",
       "      <td>team</td>\n",
       "      <td>0.003889</td>\n",
       "    </tr>\n",
       "    <tr>\n",
       "      <th>6</th>\n",
       "      <td>role</td>\n",
       "      <td>0.003858</td>\n",
       "    </tr>\n",
       "    <tr>\n",
       "      <th>7</th>\n",
       "      <td>management</td>\n",
       "      <td>0.003782</td>\n",
       "    </tr>\n",
       "    <tr>\n",
       "      <th>8</th>\n",
       "      <td>manager</td>\n",
       "      <td>0.003357</td>\n",
       "    </tr>\n",
       "    <tr>\n",
       "      <th>9</th>\n",
       "      <td>financial</td>\n",
       "      <td>0.003321</td>\n",
       "    </tr>\n",
       "  </tbody>\n",
       "</table>\n",
       "</div>"
      ],
      "text/plain": [
       "      Feature  Probability\n",
       "0    business     0.005448\n",
       "1  experience     0.005003\n",
       "2        work     0.004550\n",
       "3     project     0.003948\n",
       "4      client     0.003892\n",
       "5        team     0.003889\n",
       "6        role     0.003858\n",
       "7  management     0.003782\n",
       "8     manager     0.003357\n",
       "9   financial     0.003321"
      ]
     },
     "execution_count": 21,
     "metadata": {},
     "output_type": "execute_result"
    }
   ],
   "source": [
    "feature_prob_class_0 = np.exp(nb.feature_log_prob_[0])\n",
    "\n",
    "# Get feature names from the vectorizer\n",
    "feature_names = vectorizer.get_feature_names_out()\n",
    "\n",
    "# Create a DataFrame for class 0\n",
    "df_class_0 = pd.DataFrame({'Feature': feature_names, 'Probability': feature_prob_class_0})\n",
    "\n",
    "# Sort the DataFrame by probability in descending order\n",
    "df_class_0_sorted = df_class_0.sort_values('Probability', ascending=False).reset_index(drop=True)\n",
    "\n",
    "print(\"Top High Salary words:\")\n",
    "df_class_0_sorted.head(10)"
   ]
  },
  {
   "cell_type": "markdown",
   "metadata": {},
   "source": [
    "**High Salary Words:**\n",
    "\n",
    "The words \"business\", \"experience\", \"work\", \"project\", \"client\", \"team\", \"role\", \"management\", \"manager\", and \"financial\" prominently feature in high salary jobs.\n",
    "\n",
    "**Professional and Leadership Focus:** This set underscores a strong emphasis on professional experience, business acumen, and project management. Words like \"management\", \"manager\", \"financial\", and \"lead\" suggest roles that require leadership qualities, financial expertise, and the ability to oversee and drive projects.\n",
    "\n",
    "**Team and Client Orientation:** The recurrence of \"team\", \"client\", and \"role\" highlights the importance of collaboration, client relations, and clear role definitions within organizations, indicating positions that likely involve coordination among various stakeholders"
   ]
  },
  {
   "cell_type": "code",
   "execution_count": 22,
   "metadata": {},
   "outputs": [
    {
     "name": "stdout",
     "output_type": "stream",
     "text": [
      "Top Low Salary words:\n"
     ]
    },
    {
     "data": {
      "text/html": [
       "<div>\n",
       "<style scoped>\n",
       "    .dataframe tbody tr th:only-of-type {\n",
       "        vertical-align: middle;\n",
       "    }\n",
       "\n",
       "    .dataframe tbody tr th {\n",
       "        vertical-align: top;\n",
       "    }\n",
       "\n",
       "    .dataframe thead th {\n",
       "        text-align: right;\n",
       "    }\n",
       "</style>\n",
       "<table border=\"1\" class=\"dataframe\">\n",
       "  <thead>\n",
       "    <tr style=\"text-align: right;\">\n",
       "      <th></th>\n",
       "      <th>Feature</th>\n",
       "      <th>Probability</th>\n",
       "    </tr>\n",
       "  </thead>\n",
       "  <tbody>\n",
       "    <tr>\n",
       "      <th>0</th>\n",
       "      <td>work</td>\n",
       "      <td>0.004902</td>\n",
       "    </tr>\n",
       "    <tr>\n",
       "      <th>1</th>\n",
       "      <td>sale</td>\n",
       "      <td>0.004461</td>\n",
       "    </tr>\n",
       "    <tr>\n",
       "      <th>2</th>\n",
       "      <td>experience</td>\n",
       "      <td>0.004089</td>\n",
       "    </tr>\n",
       "    <tr>\n",
       "      <th>3</th>\n",
       "      <td>client</td>\n",
       "      <td>0.003633</td>\n",
       "    </tr>\n",
       "    <tr>\n",
       "      <th>4</th>\n",
       "      <td>school</td>\n",
       "      <td>0.003471</td>\n",
       "    </tr>\n",
       "    <tr>\n",
       "      <th>5</th>\n",
       "      <td>role</td>\n",
       "      <td>0.003390</td>\n",
       "    </tr>\n",
       "    <tr>\n",
       "      <th>6</th>\n",
       "      <td>service</td>\n",
       "      <td>0.003343</td>\n",
       "    </tr>\n",
       "    <tr>\n",
       "      <th>7</th>\n",
       "      <td>team</td>\n",
       "      <td>0.003282</td>\n",
       "    </tr>\n",
       "    <tr>\n",
       "      <th>8</th>\n",
       "      <td>teacher</td>\n",
       "      <td>0.003162</td>\n",
       "    </tr>\n",
       "    <tr>\n",
       "      <th>9</th>\n",
       "      <td>business</td>\n",
       "      <td>0.003076</td>\n",
       "    </tr>\n",
       "  </tbody>\n",
       "</table>\n",
       "</div>"
      ],
      "text/plain": [
       "      Feature  Probability\n",
       "0        work     0.004902\n",
       "1        sale     0.004461\n",
       "2  experience     0.004089\n",
       "3      client     0.003633\n",
       "4      school     0.003471\n",
       "5        role     0.003390\n",
       "6     service     0.003343\n",
       "7        team     0.003282\n",
       "8     teacher     0.003162\n",
       "9    business     0.003076"
      ]
     },
     "execution_count": 22,
     "metadata": {},
     "output_type": "execute_result"
    }
   ],
   "source": [
    "feature_prob_class_1 = np.exp(nb.feature_log_prob_[1])\n",
    "\n",
    "# Get feature names from the vectorizer\n",
    "feature_names = vectorizer.get_feature_names_out()\n",
    "\n",
    "# Create a DataFrame for class 1\n",
    "df_class_1 = pd.DataFrame({'Feature': feature_names, 'Probability': feature_prob_class_1})\n",
    "\n",
    "# Sort the DataFrame by probability in descending order\n",
    "df_class_1_sorted = df_class_1.sort_values('Probability', ascending=False).reset_index(drop=True)\n",
    "\n",
    "# Display the DataFrame\n",
    "print(\"Top Low Salary words:\")\n",
    "df_class_1_sorted.head(10)"
   ]
  },
  {
   "cell_type": "markdown",
   "metadata": {},
   "source": [
    "**Low Salary Words:**\n",
    "\n",
    "For low salary jobs, the top words are \"work\", \"sale\", \"experience\", \"client\", \"school\", \"role\", \"service\", \"team\", \"teacher\", and \"business\".\n",
    "\n",
    "**Operational and Educational Focus:** The presence of \"sale\", \"service\", \"school\", and \"teacher\" points towards roles with a strong operational or educational component. These might include sales positions, customer service roles, or educational roles that do not require as much specialized knowledge or leadership experience as those in the high salary bracket.\n",
    "\n",
    "**Customer and Support Emphasis:** Words like \"customer\", \"support\", and \"service\" indicate jobs focused on providing support and services, which are crucial for maintaining business operations but might not offer the same level of compensation as more specialized roles"
   ]
  },
  {
   "cell_type": "markdown",
   "metadata": {},
   "source": [
    "**Concluding Insights:**\n",
    "\n",
    "**High Salary Insights:**\n",
    "The high salary class is marked by terms like \"business\", \"experience\", \"work\", \"project\", \"client\", \"team\", \"role\", \"management\", \"manager\", and \"financial\". These words collectively paint a picture of roles steeped in complexity and specialization, with a clear emphasis on leadership qualities and strategic business or technical acumen\n",
    "\n",
    "**Low Salary Insights:**\n",
    "\n",
    "Conversely, the low salary class features words like \"work\", \"sale\", \"experience\", \"client\", \"school\", \"role\", \"service\", \"team\", \"teacher\", and \"business\". This vocabulary skews more towards operational and customer-facing duties, with \"sale\", \"service\", and \"client\" highlighting the service-oriented nature of these roles. The inclusion of \"school\" and \"teacher\" points to a significant representation of educational roles, which, while essential, may not offer the financial rewards associated with more specialized or leadership-driven positions"
   ]
  },
  {
   "cell_type": "markdown",
   "metadata": {},
   "source": [
    "### Approach 2 to show top words in high and low salary"
   ]
  },
  {
   "cell_type": "markdown",
   "metadata": {},
   "source": [
    "In Approach 2, I refined the analysis to identify words uniquely associated with high and low salary jobs by comparing the top words from each class and pinpointing those exclusive to each list, we gain further insights into the distinguishing characteristics of these roles"
   ]
  },
  {
   "cell_type": "code",
   "execution_count": 23,
   "metadata": {},
   "outputs": [
    {
     "name": "stdout",
     "output_type": "stream",
     "text": [
      "Top words that only exist in high salary, ordered by feature importance:\n"
     ]
    },
    {
     "data": {
      "text/html": [
       "<div>\n",
       "<style scoped>\n",
       "    .dataframe tbody tr th:only-of-type {\n",
       "        vertical-align: middle;\n",
       "    }\n",
       "\n",
       "    .dataframe tbody tr th {\n",
       "        vertical-align: top;\n",
       "    }\n",
       "\n",
       "    .dataframe thead th {\n",
       "        text-align: right;\n",
       "    }\n",
       "</style>\n",
       "<table border=\"1\" class=\"dataframe\">\n",
       "  <thead>\n",
       "    <tr style=\"text-align: right;\">\n",
       "      <th></th>\n",
       "      <th>Feature</th>\n",
       "      <th>Probability</th>\n",
       "    </tr>\n",
       "  </thead>\n",
       "  <tbody>\n",
       "    <tr>\n",
       "      <th>0</th>\n",
       "      <td>project</td>\n",
       "      <td>0.003948</td>\n",
       "    </tr>\n",
       "    <tr>\n",
       "      <th>1</th>\n",
       "      <td>financial</td>\n",
       "      <td>0.003321</td>\n",
       "    </tr>\n",
       "    <tr>\n",
       "      <th>2</th>\n",
       "      <td>finance</td>\n",
       "      <td>0.002902</td>\n",
       "    </tr>\n",
       "    <tr>\n",
       "      <th>3</th>\n",
       "      <td>lead</td>\n",
       "      <td>0.002792</td>\n",
       "    </tr>\n",
       "    <tr>\n",
       "      <th>4</th>\n",
       "      <td>strong</td>\n",
       "      <td>0.002609</td>\n",
       "    </tr>\n",
       "    <tr>\n",
       "      <th>5</th>\n",
       "      <td>manage</td>\n",
       "      <td>0.002567</td>\n",
       "    </tr>\n",
       "    <tr>\n",
       "      <th>6</th>\n",
       "      <td>design</td>\n",
       "      <td>0.002511</td>\n",
       "    </tr>\n",
       "    <tr>\n",
       "      <th>7</th>\n",
       "      <td>commercial</td>\n",
       "      <td>0.002340</td>\n",
       "    </tr>\n",
       "    <tr>\n",
       "      <th>8</th>\n",
       "      <td>ensure</td>\n",
       "      <td>0.002335</td>\n",
       "    </tr>\n",
       "    <tr>\n",
       "      <th>9</th>\n",
       "      <td>senior</td>\n",
       "      <td>0.002331</td>\n",
       "    </tr>\n",
       "    <tr>\n",
       "      <th>10</th>\n",
       "      <td>system</td>\n",
       "      <td>0.002317</td>\n",
       "    </tr>\n",
       "    <tr>\n",
       "      <th>11</th>\n",
       "      <td>develop</td>\n",
       "      <td>0.002288</td>\n",
       "    </tr>\n",
       "  </tbody>\n",
       "</table>\n",
       "</div>"
      ],
      "text/plain": [
       "       Feature  Probability\n",
       "0      project     0.003948\n",
       "1    financial     0.003321\n",
       "2      finance     0.002902\n",
       "3         lead     0.002792\n",
       "4       strong     0.002609\n",
       "5       manage     0.002567\n",
       "6       design     0.002511\n",
       "7   commercial     0.002340\n",
       "8       ensure     0.002335\n",
       "9       senior     0.002331\n",
       "10      system     0.002317\n",
       "11     develop     0.002288"
      ]
     },
     "execution_count": 23,
     "metadata": {},
     "output_type": "execute_result"
    }
   ],
   "source": [
    "different_words= set(list(df_class_0_sorted.head(30)['Feature'])) - set(list(df_class_1_sorted.head(30)['Feature']))\n",
    "different_words\n",
    "different_words_list = list(different_words)\n",
    "different_words_df = df_class_0_sorted[df_class_0_sorted['Feature'].isin(different_words_list)].reset_index(drop=True)\n",
    "\n",
    "print(\"Top words that only exist in high salary, ordered by feature importance:\")\n",
    "different_words_df.head(15)"
   ]
  },
  {
   "cell_type": "markdown",
   "metadata": {},
   "source": [
    "**High Salary Unique Words:**\n",
    "\n",
    "Words uniquely associated with high salaries include \"commercial\", \"design\", \"develop\", \"ensure\", \"finance\", \"financial\", \"lead\", \"manage\", \"project\", \"senior\", \"strong\", and \"system\".\n",
    "\n",
    "**Specialization and Strategy:** These words reflect a high degree of specialization (\"finance\", \"financial\", \"system\") and strategic roles (\"lead\", \"manage\", \"senior\"). The emphasis on \"design\", \"develop\", and \"project\" suggests innovation and creation, key in roles that command higher salaries."
   ]
  },
  {
   "cell_type": "code",
   "execution_count": 24,
   "metadata": {},
   "outputs": [
    {
     "name": "stdout",
     "output_type": "stream",
     "text": [
      "Top words that only exist in low salary, ordered by feature importance:\n"
     ]
    },
    {
     "data": {
      "text/html": [
       "<div>\n",
       "<style scoped>\n",
       "    .dataframe tbody tr th:only-of-type {\n",
       "        vertical-align: middle;\n",
       "    }\n",
       "\n",
       "    .dataframe tbody tr th {\n",
       "        vertical-align: top;\n",
       "    }\n",
       "\n",
       "    .dataframe thead th {\n",
       "        text-align: right;\n",
       "    }\n",
       "</style>\n",
       "<table border=\"1\" class=\"dataframe\">\n",
       "  <thead>\n",
       "    <tr style=\"text-align: right;\">\n",
       "      <th></th>\n",
       "      <th>Feature</th>\n",
       "      <th>Probability</th>\n",
       "    </tr>\n",
       "  </thead>\n",
       "  <tbody>\n",
       "    <tr>\n",
       "      <th>0</th>\n",
       "      <td>school</td>\n",
       "      <td>0.003471</td>\n",
       "    </tr>\n",
       "    <tr>\n",
       "      <th>1</th>\n",
       "      <td>teacher</td>\n",
       "      <td>0.003162</td>\n",
       "    </tr>\n",
       "    <tr>\n",
       "      <th>2</th>\n",
       "      <td>customer</td>\n",
       "      <td>0.002847</td>\n",
       "    </tr>\n",
       "    <tr>\n",
       "      <th>3</th>\n",
       "      <td>company</td>\n",
       "      <td>0.002835</td>\n",
       "    </tr>\n",
       "    <tr>\n",
       "      <th>4</th>\n",
       "      <td>support</td>\n",
       "      <td>0.002786</td>\n",
       "    </tr>\n",
       "    <tr>\n",
       "      <th>5</th>\n",
       "      <td>look</td>\n",
       "      <td>0.002626</td>\n",
       "    </tr>\n",
       "    <tr>\n",
       "      <th>6</th>\n",
       "      <td>require</td>\n",
       "      <td>0.002310</td>\n",
       "    </tr>\n",
       "    <tr>\n",
       "      <th>7</th>\n",
       "      <td>excellent</td>\n",
       "      <td>0.002285</td>\n",
       "    </tr>\n",
       "    <tr>\n",
       "      <th>8</th>\n",
       "      <td>recruitment</td>\n",
       "      <td>0.002261</td>\n",
       "    </tr>\n",
       "    <tr>\n",
       "      <th>9</th>\n",
       "      <td>must</td>\n",
       "      <td>0.002183</td>\n",
       "    </tr>\n",
       "    <tr>\n",
       "      <th>10</th>\n",
       "      <td>year</td>\n",
       "      <td>0.002179</td>\n",
       "    </tr>\n",
       "    <tr>\n",
       "      <th>11</th>\n",
       "      <td>provide</td>\n",
       "      <td>0.002107</td>\n",
       "    </tr>\n",
       "  </tbody>\n",
       "</table>\n",
       "</div>"
      ],
      "text/plain": [
       "        Feature  Probability\n",
       "0        school     0.003471\n",
       "1       teacher     0.003162\n",
       "2      customer     0.002847\n",
       "3       company     0.002835\n",
       "4       support     0.002786\n",
       "5          look     0.002626\n",
       "6       require     0.002310\n",
       "7     excellent     0.002285\n",
       "8   recruitment     0.002261\n",
       "9          must     0.002183\n",
       "10         year     0.002179\n",
       "11      provide     0.002107"
      ]
     },
     "execution_count": 24,
     "metadata": {},
     "output_type": "execute_result"
    }
   ],
   "source": [
    "different_words1= set(list(df_class_1_sorted.head(30)['Feature']))-set(list(df_class_0_sorted.head(30)['Feature'])) \n",
    "different_words1\n",
    "different_words_list1 = list(different_words1)\n",
    "different_words_df1 = df_class_1_sorted[df_class_1_sorted['Feature'].isin(different_words_list1)].reset_index(drop=True)\n",
    "print(\"Top words that only exist in low salary, ordered by feature importance:\")\n",
    "different_words_df1.head(12)"
   ]
  },
  {
   "cell_type": "markdown",
   "metadata": {},
   "source": [
    "**Low Salary Unique Words:**\n",
    "\n",
    "Unique to low salary jobs are \"company\", \"customer\", \"excellent\", \"look\" (probably stopword), \"must\",\"recruitment\", \"require\", \"school\", \"support\", \"teacher\", \"provide\", \"Year\"\n",
    "\n",
    "**Support and Service:** This list leans towards support (\"support\", \"customer\", \"service\") and foundational roles within a company or educational settings (\"school\", \"teacher\"). These terms may represent positions essential for daily operations and customer engagement but are typically entry-level or require less specialized expertise."
   ]
  },
  {
   "cell_type": "markdown",
   "metadata": {},
   "source": [
    "**Concluding Insights:**\n",
    "\n",
    "**High Salary Unique Words:**\n",
    "Unique words associated with high salary jobs include \"commercial\", \"design\", \"develop\", \"ensure\", \"finance\", \"financial\", \"lead\", \"manage\", \"project\", \"senior\", \"strong\", and \"system\". These terms suggest a significant emphasis on roles that demand not only technical and design expertise but also a strong grasp of commercial and financial strategies. Words like \"lead\", \"manage\", and \"senior\" underscore leadership roles, indicating positions of authority and responsibility that likely involve guiding teams or projects towards success. \"Develop\", \"design\", and \"system\" reflect the innovation and technical skill required in these roles, highlighting a need for individuals capable of creating or improving systems, products, or processes. The presence of \"financial\" and \"finance\" points towards roles where financial oversight, investment acumen, or economic analysis plays a critical part\n",
    "\n",
    "**Low Salary Unique Words:**\n",
    "\n",
    "For low salary jobs, unique words include \"company\", \"customer\", \"excellent\", \"look\", \"must\", \"provide\", \"recruitment\", \"require\", \"school\", \"support\", \"teacher\", and \"year\". This set leans heavily towards roles centered around support, customer service, and education. \"Customer\", \"support\", and \"service\" suggest positions focused on direct interaction with customers or clients, providing assistance and ensuring satisfaction. The inclusion of \"school\", \"teacher\", and \"recruitment\" highlights the educational and human resources sectors, indicating roles essential for organizational support and educational development but perhaps not as highly compensated as those requiring specialized technical or leadership skills. "
   ]
  },
  {
   "cell_type": "markdown",
   "metadata": {},
   "source": [
    "## 2. If you wanted to increase the accuracy of the model above, how can you accomplish this using thedataset you have?"
   ]
  },
  {
   "cell_type": "markdown",
   "metadata": {},
   "source": [
    "**N-gram Analysis**: Expanding our analysis to include bigrams and trigrams could capture context and phraseology better than single words (unigrams). This could reveal patterns like \"senior engineer\" or \"entry level\" that are more directly correlated with salary levels\n",
    "\n",
    "**Incorporate Log Probabilities**: Leveraging log probabilities helps address the issue of numerical underflow that can happen when multiplying many small probabilities together, a common issue in Naive Bayes models.\n",
    "\n",
    "**Leverage Job Metadata**: Features like Job Title, Location, Contract Type, and Category are likely to have predictive value. For instance, jobs in certain locations or within specific sectors might consistently offer higher salaries. Adding these as features, either as categorical variables or through additional text processing, could significantly improve model accuracy.\n",
    "\n",
    "**Incorporate Sentiment Analysis**: The sentiment or tone of a job description could correlate with salary levels. Positive, confident language could indicate higher-paying roles. Incorporating sentiment analysis results as a feature could provide another dimension to the model\n",
    "\n",
    "**Synonyms and Feature Correlation**: Naive Bayes assumes feature independence, an assumption often violated in text data due to synonyms and correlated terms. Identifying and merging synonyms or using dimensionality reduction techniques could mitigate the double-counting effect of correlated features, making the model's probability estimates more reliable\n",
    "\n",
    "**Hyperparameter Tuning**: Beyond alpha in Naive Bayes, exploring hyperparameters in vectorization methods (such as the max_features, min_df, and ngram_range in TfidfVectorizer) through grid search or random search can fine-tune our model's performance.\n",
    "\n",
    "**Ensemble Methods**: Combining the Naive Bayes model with other classifiers through ensemble techniques like stacking, voting, or boosting could leverage the strengths of multiple models, potentially leading to improved accuracy"
   ]
  },
  {
   "cell_type": "markdown",
   "metadata": {},
   "source": [
    "# End "
   ]
  }
 ],
 "metadata": {
  "kernelspec": {
   "display_name": "base",
   "language": "python",
   "name": "python3"
  },
  "language_info": {
   "codemirror_mode": {
    "name": "ipython",
    "version": 3
   },
   "file_extension": ".py",
   "mimetype": "text/x-python",
   "name": "python",
   "nbconvert_exporter": "python",
   "pygments_lexer": "ipython3",
   "version": "3.10.13"
  }
 },
 "nbformat": 4,
 "nbformat_minor": 2
}
